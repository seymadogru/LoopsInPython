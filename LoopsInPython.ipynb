{
 "cells": [
  {
   "cell_type": "markdown",
   "id": "4b50599e",
   "metadata": {},
   "source": [
    "Kullanıcının girdiği kelimeyi ters çeviren bir kod yazınız."
   ]
  },
  {
   "cell_type": "code",
   "execution_count": 1,
   "id": "d32b3993",
   "metadata": {},
   "outputs": [
    {
     "name": "stdout",
     "output_type": "stream",
     "text": [
      "bir kelime giriniz:otobüs\n",
      "süboto\n"
     ]
    }
   ],
   "source": [
    "kelime = input(\"bir kelime giriniz:\")\n",
    "index = len(kelime)\n",
    "yeni=\"\"\n",
    "while index>0:\n",
    "  index-=1\n",
    "  yeni += kelime[index]\n",
    "  \n",
    "print(yeni)  "
   ]
  },
  {
   "cell_type": "markdown",
   "id": "0d189530",
   "metadata": {},
   "source": [
    "Girilen bir sayı için çarpım tablosunu yazdırın"
   ]
  },
  {
   "cell_type": "code",
   "execution_count": 2,
   "id": "bab92c81",
   "metadata": {},
   "outputs": [
    {
     "name": "stdout",
     "output_type": "stream",
     "text": [
      "Çarpım tablosu oluşturulacak sayıyı giriniz:9\n",
      "9 * 1 = 9\n",
      "9 * 2 = 18\n",
      "9 * 3 = 27\n",
      "9 * 4 = 36\n",
      "9 * 5 = 45\n",
      "9 * 6 = 54\n",
      "9 * 7 = 63\n",
      "9 * 8 = 72\n",
      "9 * 9 = 81\n",
      "9 * 10 = 90\n"
     ]
    }
   ],
   "source": [
    "sayi = int(input(\"Çarpım tablosu oluşturulacak sayıyı giriniz:\"))\n",
    "for i in range(1,11):\n",
    "  carpim = sayi*i\n",
    "  print(sayi,\"*\",i,\"=\",carpim)"
   ]
  },
  {
   "cell_type": "markdown",
   "id": "afe230c2",
   "metadata": {},
   "source": [
    "List comprehension kullanarak, 1'den 20'ye kadar tek sayıların karesini, çift sayıların küpünü içeren bir liste oluşturun."
   ]
  },
  {
   "cell_type": "code",
   "execution_count": 3,
   "id": "2345d8ac",
   "metadata": {},
   "outputs": [
    {
     "name": "stdout",
     "output_type": "stream",
     "text": [
      "[1, 8, 9, 64, 25, 216, 49, 512, 81, 1000, 121, 1728, 169, 2744, 225, 4096, 289, 5832, 361]\n"
     ]
    }
   ],
   "source": [
    "list_comp= [x**2 if x%2==1 else x**3  for x in range(1,20)  ]\n",
    "print(list_comp)"
   ]
  },
  {
   "cell_type": "markdown",
   "id": "1fca7367",
   "metadata": {},
   "source": [
    "1'den 200'e kadar olan sayıları (range()) kullanarak tek sayılar ve çift sayılar olmak üzere iki liste oluşturun."
   ]
  },
  {
   "cell_type": "code",
   "execution_count": 4,
   "id": "b2bbc7ca",
   "metadata": {},
   "outputs": [
    {
     "name": "stdout",
     "output_type": "stream",
     "text": [
      "[2, 4, 6, 8, 10, 12, 14, 16, 18, 20, 22, 24, 26, 28, 30, 32, 34, 36, 38, 40, 42, 44, 46, 48, 50, 52, 54, 56, 58, 60, 62, 64, 66, 68, 70, 72, 74, 76, 78, 80, 82, 84, 86, 88, 90, 92, 94, 96, 98, 100, 102, 104, 106, 108, 110, 112, 114, 116, 118, 120, 122, 124, 126, 128, 130, 132, 134, 136, 138, 140, 142, 144, 146, 148, 150, 152, 154, 156, 158, 160, 162, 164, 166, 168, 170, 172, 174, 176, 178, 180, 182, 184, 186, 188, 190, 192, 194, 196, 198]\n",
      "[1, 3, 5, 7, 9, 11, 13, 15, 17, 19, 21, 23, 25, 27, 29, 31, 33, 35, 37, 39, 41, 43, 45, 47, 49, 51, 53, 55, 57, 59, 61, 63, 65, 67, 69, 71, 73, 75, 77, 79, 81, 83, 85, 87, 89, 91, 93, 95, 97, 99, 101, 103, 105, 107, 109, 111, 113, 115, 117, 119, 121, 123, 125, 127, 129, 131, 133, 135, 137, 139, 141, 143, 145, 147, 149, 151, 153, 155, 157, 159, 161, 163, 165, 167, 169, 171, 173, 175, 177, 179, 181, 183, 185, 187, 189, 191, 193, 195, 197, 199]\n"
     ]
    }
   ],
   "source": [
    "cift_sayi_list=[]\n",
    "tek_sayi_list=[]\n",
    "for sayi in range(1,200):\n",
    "  if sayi%2==0:\n",
    "    cift_sayi_list.append(sayi)\n",
    "  else:\n",
    "    tek_sayi_list.append(sayi)\n",
    "print(cift_sayi_list)\n",
    "print(tek_sayi_list)  "
   ]
  },
  {
   "cell_type": "markdown",
   "id": "0656b5b5",
   "metadata": {},
   "source": [
    "Kullanıcıdan alınacak iki sayının OBEB ve OKEK'ini bulan bir program yazın."
   ]
  },
  {
   "cell_type": "code",
   "execution_count": 5,
   "id": "eaa9210e",
   "metadata": {},
   "outputs": [
    {
     "name": "stdout",
     "output_type": "stream",
     "text": [
      "Birinci Sayıyı Giriniz : 10\n",
      "İkinci Sayıyı Giriniz : 20\n",
      "Ebob =  10\n",
      "Ekok =  20\n"
     ]
    }
   ],
   "source": [
    "sayi1 = int(input(\"Birinci Sayıyı Giriniz : \"))\n",
    "sayi2 = int(input(\"İkinci Sayıyı Giriniz : \"))\n",
    "if (sayi1>sayi2):\n",
    "    kucuksayi = sayi2\n",
    "else:\n",
    "    kucuksayi = sayi1\n",
    "for i in range(1,kucuksayi+1):\n",
    "    if (sayi1 % i==0) and (sayi2%i ==0):\n",
    "        ebob = i\n",
    "print(\"Ebob = \",ebob)\n",
    "print(\"Ekok = \", (sayi1*sayi2)//ebob)"
   ]
  },
  {
   "cell_type": "code",
   "execution_count": null,
   "id": "57ad1e04",
   "metadata": {},
   "outputs": [],
   "source": []
  }
 ],
 "metadata": {
  "kernelspec": {
   "display_name": "Python 3",
   "language": "python",
   "name": "python3"
  },
  "language_info": {
   "codemirror_mode": {
    "name": "ipython",
    "version": 3
   },
   "file_extension": ".py",
   "mimetype": "text/x-python",
   "name": "python",
   "nbconvert_exporter": "python",
   "pygments_lexer": "ipython3",
   "version": "3.8.8"
  }
 },
 "nbformat": 4,
 "nbformat_minor": 5
}
